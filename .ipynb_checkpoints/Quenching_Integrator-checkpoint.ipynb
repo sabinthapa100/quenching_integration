{
 "cells": [
  {
   "cell_type": "markdown",
   "id": "449fb284-ffd6-4f81-9233-47780a571b7f",
   "metadata": {},
   "source": [
    "# Integration of Quenching Weight to get the Nuclear Suppression Factor"
   ]
  },
  {
   "cell_type": "code",
   "execution_count": 3,
   "id": "e3cc2fd8-111d-45f3-b87f-3404740932ca",
   "metadata": {},
   "outputs": [],
   "source": [
    "import numpy as np\n",
    "from scipy.special import spence\n",
    "# from cuba import Cuhre\n",
    "import os"
   ]
  },
  {
   "cell_type": "code",
   "execution_count": 4,
   "id": "d5c8695e-1f31-4781-985e-acbef5fa2051",
   "metadata": {},
   "outputs": [],
   "source": [
    "# Define constants and global parameters\n",
    "nc = 3\n",
    "alphas = 0.5  # QCD coupling constant\n",
    "lambdaQCD = 0.25\n",
    "qhat0 = 0.075  # GeV^2/fm\n",
    "lp = 1.5  # in fm\n",
    "lA = 10.11  # in fm\n",
    "lB = 10.11  # in fm\n",
    "massp = 0.938  # mass of proton in GeV, it can also be 1 GeV\n",
    "rootsnn = 5023  # collision energy, sqrt(s_NN)\n",
    "massQQ = 9.46  # Upsilon mass\n",
    "p0 = 6.6  # in GeV for Upsilon State at 7 TeV\n",
    "m = 2.8\n",
    "n = 13.8"
   ]
  },
  {
   "cell_type": "code",
   "execution_count": 5,
   "id": "04b4d818-b599-491b-b2f6-5806e2095de8",
   "metadata": {},
   "outputs": [],
   "source": [
    "# Parameters for loops in y and pt\n",
    "Ny = 10 * 2 + 1\n",
    "Npt = 40 * 2 + 1\n",
    "y_min = -5.0\n",
    "y_max = 5.0\n",
    "ptmin = 0.1\n",
    "ptmax = 40.1\n",
    "dy = (y_max - y_min) / (Ny - 1)\n",
    "dpt = (ptmax - ptmin) / (Npt - 1)"
   ]
  },
  {
   "cell_type": "code",
   "execution_count": 6,
   "id": "cfad4b1b-13cf-4bb3-93f5-5af7895230e2",
   "metadata": {},
   "outputs": [],
   "source": [
    "# Other required functions\n",
    "\n",
    "def Mperp2(pt):\n",
    "    return pt * pt + massQQ * massQQ\n",
    "\n",
    "def Mperp(pt):\n",
    "    return np.sqrt(Mperp2(pt))\n",
    "\n",
    "def ymax(pt):\n",
    "    return np.log(rootsnn / Mperp(pt))\n",
    "\n",
    "def qhat(x):\n",
    "    return qhat0 * np.power(np.power(10, -2) / x, 0.3)"
   ]
  },
  {
   "cell_type": "code",
   "execution_count": null,
   "id": "9a880253-fd99-452a-af0b-3becb891c10f",
   "metadata": {},
   "outputs": [],
   "source": []
  },
  {
   "cell_type": "code",
   "execution_count": null,
   "id": "bc412547-0147-46c8-bef2-c32ee5f89b9c",
   "metadata": {},
   "outputs": [],
   "source": []
  },
  {
   "cell_type": "code",
   "execution_count": 9,
   "id": "6d55ff66-d71a-4c1b-b26a-f7ae096fd6fb",
   "metadata": {},
   "outputs": [],
   "source": [
    "def create_output_directory():\n",
    "    # Create the \"output\" directory if it doesn't exist\n",
    "    output_directory = \"output\"\n",
    "    if not os.path.exists(output_directory):\n",
    "        os.makedirs(output_directory)\n",
    "        print(f\"Directory '{output_directory}' created successfully.\")\n",
    "    else:\n",
    "        print(f\"Directory '{output_directory}' already exists.\")"
   ]
  },
  {
   "cell_type": "code",
   "execution_count": 7,
   "id": "ef3e783a-975c-4d5d-bdd5-bec28fbb5c3c",
   "metadata": {},
   "outputs": [],
   "source": [
    "def main():\n",
    "    print_line()\n",
    "    print(\"Quenching calculation started\")\n",
    "    print_line()\n",
    "\n",
    "    create_output_directory()\n",
    "\n",
    "    filename_1 = \"output/AB-cross-section.tsv\"\n",
    "    filename_2 = \"output/pp-cross-section.tsv\"\n",
    "    filename_3 = \"output/pA-cross-section.tsv\"\n",
    "    filename_4 = \"output/RAB.tsv\"\n",
    "    filename_5 = \"output/RpA.tsv\"\n",
    "\n",
    "    with open(filename_1, 'w') as output_file_1, open(filename_2, 'w') as output_file_2, \\\n",
    "            open(filename_3, 'w') as output_file_3, open(filename_4, 'w') as output_file_4, \\\n",
    "            open(filename_5, 'w') as output_file_5:\n",
    "        for i in range(Ny):\n",
    "            y = y_min + i * dy\n",
    "            for j in range(Npt):\n",
    "                pt = ptmin + j * dpt\n",
    "\n",
    "                # Compute AB cross section\n",
    "                result, error = ABCrossSection(y, pt)\n",
    "                output_file_1.write(f\"{y}\\t{pt}\\t{result}\\t{error}\\n\")\n",
    "\n",
    "                # Output pp cross section\n",
    "                result2 = dsigdyd2pt(y, pt)\n",
    "                output_file_2.write(f\"{y}\\t{pt}\\t{result2}\\n\")\n",
    "\n",
    "                # Compute pA cross section\n",
    "                result3, error = pACrossSection(y, pt)\n",
    "                output_file_3.write(f\"{y}\\t{pt}\\t{result3}\\t{error}\\n\")\n",
    "\n",
    "                # Output RAB cross section\n",
    "                result4 = result / result2\n",
    "                error4 = error / result2\n",
    "                output_file_4.write(f\"{y}\\t{pt}\\t{result4}\\t{error4}\\n\")\n",
    "\n",
    "                # Output RpA cross section\n",
    "                result5 = result / result3\n",
    "                error5 = error / result3\n",
    "                output_file_5.write(f\"{y}\\t{pt}\\t{result5}\\t{error5}\\n\")\n",
    "\n",
    "    print_line()\n",
    "    print(\"Done\")\n",
    "    print_line()\n"
   ]
  },
  {
   "cell_type": "code",
   "execution_count": null,
   "id": "c1295ca5-af5b-4b44-860b-10b1ce620af7",
   "metadata": {},
   "outputs": [],
   "source": []
  }
 ],
 "metadata": {
  "kernelspec": {
   "display_name": "Python 3 (ipykernel)",
   "language": "python",
   "name": "python3"
  },
  "language_info": {
   "codemirror_mode": {
    "name": "ipython",
    "version": 3
   },
   "file_extension": ".py",
   "mimetype": "text/x-python",
   "name": "python",
   "nbconvert_exporter": "python",
   "pygments_lexer": "ipython3",
   "version": "3.9.12"
  }
 },
 "nbformat": 4,
 "nbformat_minor": 5
}
